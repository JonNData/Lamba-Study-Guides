{
  "nbformat": 4,
  "nbformat_minor": 0,
  "metadata": {
    "accelerator": "GPU",
    "colab": {
      "name": "Nguyen_LS_DS_Unit_4_Sprint_Challenge_3_v2.ipynb",
      "provenance": [],
      "collapsed_sections": [],
      "include_colab_link": true
    },
    "kernel_info": {
      "name": "u4-s3-dnn"
    },
    "kernelspec": {
      "display_name": "U4-S2-NNF-DS10",
      "language": "python",
      "name": "u4-s2-nnf-ds10"
    },
    "language_info": {
      "codemirror_mode": {
        "name": "ipython",
        "version": 3
      },
      "file_extension": ".py",
      "mimetype": "text/x-python",
      "name": "python",
      "nbconvert_exporter": "python",
      "pygments_lexer": "ipython3",
      "version": "3.7.6"
    },
    "nteract": {
      "version": "0.21.0"
    }
  },
  "cells": [
    {
      "cell_type": "markdown",
      "metadata": {
        "id": "view-in-github",
        "colab_type": "text"
      },
      "source": [
        "<a href=\"https://colab.research.google.com/github/JonNData/Lamba-Study-Guides/blob/master/Nguyen_LS_DS_Unit_4_Sprint_Challenge_3_v2.ipynb\" target=\"_parent\"><img src=\"https://colab.research.google.com/assets/colab-badge.svg\" alt=\"Open In Colab\"/></a>"
      ]
    },
    {
      "cell_type": "markdown",
      "metadata": {
        "id": "vt0vUPyBt7kk",
        "colab_type": "text"
      },
      "source": [
        "<img align=\"left\" src=\"https://lever-client-logos.s3.amazonaws.com/864372b1-534c-480e-acd5-9711f850815c-1524247202159.png\" width=200>\n",
        "<br></br>\n",
        "<br></br>\n",
        "\n",
        "# Major Neural Network Architectures Challenge\n",
        "## *Data Science Unit 4 Sprint 3 Challenge*\n",
        "\n",
        "In this sprint challenge, you'll explore some of the cutting edge of Data Science. This week we studied several famous neural network architectures: \n",
        "recurrent neural networks (RNNs), long short-term memory (LSTMs), convolutional neural networks (CNNs), and Autoencoders. In this sprint challenge, you will revisit these models. Remember, we are testing your knowledge of these architectures not your ability to fit a model with high accuracy. \n",
        "\n",
        "__*Caution:*__  these approaches can be pretty heavy computationally. All problems were designed so that you should be able to achieve results within at most 5-10 minutes of runtime locally, on AWS SageMaker, on Colab or on a comparable environment. If something is running longer, double check your approach!\n",
        "\n",
        "## Challenge Objectives\n",
        "*You should be able to:*\n",
        "* <a href=\"#p1\">Part 1</a>: Train a LSTM classification model\n",
        "* <a href=\"#p2\">Part 2</a>: Utilize a pre-trained CNN for object detection\n",
        "* <a href=\"#p3\">Part 3</a>: Describe a use case for an autoencoder\n",
        "* <a href=\"#p4\">Part 4</a>: Describe yourself as a Data Science and elucidate your vision of AI"
      ]
    },
    {
      "cell_type": "markdown",
      "metadata": {
        "colab_type": "text",
        "id": "-5UwGRnJOmD4"
      },
      "source": [
        "<a id=\"p1\"></a>\n",
        "## Part 1 - LSTMSs\n",
        "\n",
        "Use a LSTM to fit a multi-class classification model on Reuters news articles to distinguish topics of articles. The data is already encoded properly for use in a LSTM model. \n",
        "\n",
        "Your Tasks: \n",
        "- Use Keras to fit a predictive model, classifying news articles into topics. \n",
        "- Report your overall score and accuracy\n",
        "\n",
        "For reference, the [Keras IMDB sentiment classification example](https://github.com/keras-team/keras/blob/master/examples/imdb_lstm.py) will be useful, as well as the LSTM code we used in class.\n",
        "\n",
        "__*Note:*__  Focus on getting a running model, not on maxing accuracy with extreme data size or epoch numbers. Only revisit and push accuracy if you get everything else done!"
      ]
    },
    {
      "cell_type": "code",
      "metadata": {
        "colab_type": "code",
        "id": "DS-9ksWjoJit",
        "colab": {}
      },
      "source": [
        "from tensorflow.keras.datasets import reuters\n",
        "\n",
        "(X_train, y_train), (X_test, y_test) = reuters.load_data(num_words=None,\n",
        "                                                         skip_top=0,\n",
        "                                                         maxlen=None,\n",
        "                                                         test_split=0.2,\n",
        "                                                         seed=723812,\n",
        "                                                         start_char=1,\n",
        "                                                         oov_char=2,\n",
        "                                                         index_from=3)"
      ],
      "execution_count": 0,
      "outputs": []
    },
    {
      "cell_type": "code",
      "metadata": {
        "colab_type": "code",
        "id": "fLKqFh8DovaN",
        "outputId": "96d9edfb-b307-4423-9583-6c5dc946bfb6",
        "colab": {
          "base_uri": "https://localhost:8080/",
          "height": 68
        }
      },
      "source": [
        "# Demo of encoding\n",
        "\n",
        "word_index = reuters.get_word_index(path=\"reuters_word_index.json\")\n",
        "\n",
        "print(f\"Iran is encoded as {word_index['iran']} in the data\")\n",
        "print(f\"London is encoded as {word_index['london']} in the data\")\n",
        "print(\"Words are encoded as numbers in our dataset.\")"
      ],
      "execution_count": 100,
      "outputs": [
        {
          "output_type": "stream",
          "text": [
            "Iran is encoded as 779 in the data\n",
            "London is encoded as 544 in the data\n",
            "Words are encoded as numbers in our dataset.\n"
          ],
          "name": "stdout"
        }
      ]
    },
    {
      "cell_type": "code",
      "metadata": {
        "colab_type": "code",
        "id": "_QVSlFEAqWJM",
        "colab": {}
      },
      "source": [
        "# Do not change this line. You need the +1 for some reason. \n",
        "max_features = len(word_index.values()) + 1\n",
        "\n",
        "# TODO - your code!\n",
        "#len(word_index)\n",
        "maxlen = 100\n",
        "batch_size = 10"
      ],
      "execution_count": 0,
      "outputs": []
    },
    {
      "cell_type": "code",
      "metadata": {
        "id": "VIbLXTpyvty7",
        "colab_type": "code",
        "colab": {
          "base_uri": "https://localhost:8080/",
          "height": 173
        },
        "outputId": "2518cc13-3b81-4bf4-c212-9f6ae7d10966"
      },
      "source": [
        "X_train, y_train"
      ],
      "execution_count": 102,
      "outputs": [
        {
          "output_type": "execute_result",
          "data": {
            "text/plain": [
              "(array([list([1, 248, 409, 166, 265, 1537, 1662, 8, 24, 4, 1222, 2771, 7, 227, 236, 40, 85, 944, 10, 531, 176, 8, 4, 176, 1613, 24, 1662, 297, 5157, 6, 10, 103, 5, 231, 215, 8, 7, 2889, 6, 10, 1202, 69, 4, 1222, 329, 2771, 24, 944, 23, 944, 1662, 40, 2509, 1592, 907, 69, 4, 113, 997, 762, 2539, 7, 227, 236, 17, 12]),\n",
              "        list([1, 4665, 1183, 413, 381, 7, 1134, 1664, 62, 729, 7, 4, 121, 273, 93, 109, 28, 2115, 72, 11, 428, 4, 387, 989, 558, 3956, 8, 7, 25, 1213, 427, 1969, 223, 4, 213, 5, 387, 580, 8, 1145, 413, 62, 410, 451, 18, 428, 7, 4, 121, 6, 3106, 19, 11, 428, 9, 1283, 317, 65, 413, 138, 59, 12, 11, 428, 6, 6118, 63, 11, 4, 3956, 8, 3640, 1183, 413, 202, 251, 18, 428, 6, 546, 19, 11, 428, 9, 317, 65, 413, 7, 4, 1721, 427, 409, 7145, 138, 19, 19, 11, 428, 6, 3843, 70, 11, 4, 135, 5, 137, 317, 1833, 542, 9, 7145, 413, 138, 72, 47, 11, 428, 6, 19, 5106, 19, 16, 8, 17, 12]),\n",
              "        list([1, 56, 14065, 65, 9, 249, 149, 8, 4, 347, 5, 25, 65, 9, 249, 282, 333, 27, 258, 20, 6, 644, 59, 11, 15, 22, 653, 32, 11, 15, 257, 28, 29, 153, 105, 519, 6, 42, 1436, 7233, 14065, 8, 16, 40, 282, 5, 32, 47, 11, 428, 5, 65, 9, 659, 249, 3264, 9, 934, 32, 35, 1396, 983, 5, 659, 249, 7, 788, 388, 20, 324, 56, 26262, 705, 149, 40, 342, 282, 5, 2639, 18, 428, 5, 65, 9, 19, 59, 10637, 5, 659, 249, 31, 10, 143, 347, 5, 32, 32, 11, 15, 14065, 8, 17, 12]),\n",
              "        ...,\n",
              "        list([1, 4, 60, 5, 794, 8, 16, 1106, 4, 239, 76, 31, 581, 444, 5, 69, 83, 11, 167, 52, 2298, 4, 797, 135, 444, 145, 6, 126, 3998, 11, 167, 9, 1481, 31, 25, 408, 5, 10, 445, 11, 167, 1264, 17, 12]),\n",
              "        list([1, 22508, 81, 8, 16, 369, 6, 223, 46, 13, 25, 383, 448, 99, 98, 6, 153, 252, 124, 208, 6, 624, 84, 404, 963, 6, 10, 73, 21238, 23751, 9, 1417, 21315, 247, 290, 504, 9, 186, 209, 5833, 148, 1910, 4, 2801, 5, 4, 29, 195, 3855, 26171, 118, 215, 17, 12]),\n",
              "        list([1, 37, 38, 342, 4089, 114, 5868, 107, 4, 78, 441, 55, 2418, 6, 1133, 10, 664, 66, 613, 519, 6, 10, 883, 2021, 27, 78, 15479, 396, 256, 903, 1520, 4, 15883, 869, 5, 537, 9, 4, 23528, 869, 5, 4632, 8, 6315, 4, 1004, 725, 21, 2384, 3153, 66, 41, 1318, 286, 190, 51, 15883, 265, 1850, 12137, 152, 4, 78, 6448, 1454, 12256, 66, 1704, 55, 768, 45, 6300, 652, 10, 73, 120, 4, 214, 212, 9, 392, 1760, 2384, 3153, 66, 1643, 69, 1340, 35, 15, 54, 29, 57, 85, 641, 332, 224, 54, 252, 21, 10, 613, 6, 153, 4, 804, 66, 2003, 1004, 164, 125, 78, 190, 4, 37, 38, 592, 10, 2761, 21, 4, 332, 5, 540, 19, 51, 286, 1930, 57, 8, 42, 120, 23, 328, 618, 1904, 6259, 1290, 12137, 8, 107, 129, 613, 23, 625, 1824, 66, 4089, 114, 11088, 161, 5, 1691, 694, 21, 195, 490, 6, 2897, 66, 1653, 95, 3876, 9, 52, 114, 870, 126, 342, 66, 1720, 36, 506, 392, 23, 900, 127, 205, 7, 25, 2576, 182, 50, 114, 592, 7297, 21, 4, 2548, 1824, 664, 66, 7, 37, 38, 9, 342, 8717, 9, 1373, 12137, 75, 8, 4, 342, 106, 23, 4697, 6, 10, 8312, 5, 168, 23635, 50, 114, 3616, 37, 38, 162, 6, 392, 10, 664, 66, 613, 2335, 27, 195, 490, 9, 591, 262, 4519, 5545, 41, 500, 73, 236, 13, 392, 9, 2070, 25, 422, 6, 1864, 1789, 5, 2002, 50, 41, 75, 444, 16, 6383, 162, 1338, 36, 8, 16, 41, 75, 148, 4, 851, 232, 247, 5, 286, 190, 12137, 8, 4, 2316, 5, 10, 613, 209, 30, 6, 153, 137, 725, 541, 83, 206, 246, 1185, 21, 162, 306, 1001, 13, 66, 7, 469, 9, 1118, 153, 2939, 21, 106, 6043, 9, 1541, 1412, 6, 2035, 66, 3036, 17, 12])],\n",
              "       dtype=object), array([19, 41, 16, ..., 19,  3, 11]))"
            ]
          },
          "metadata": {
            "tags": []
          },
          "execution_count": 102
        }
      ]
    },
    {
      "cell_type": "code",
      "metadata": {
        "id": "TdDWt9NyvDvZ",
        "colab_type": "code",
        "colab": {}
      },
      "source": [
        "from keras.preprocessing import sequence\n",
        "from keras.models import Sequential\n",
        "from keras.layers import Dense, Embedding\n",
        "from keras.layers import LSTM"
      ],
      "execution_count": 0,
      "outputs": []
    },
    {
      "cell_type": "code",
      "metadata": {
        "id": "3NcsD1n2uSlj",
        "colab_type": "code",
        "colab": {}
      },
      "source": [
        "# Guess we'll pad these suckas\n",
        "x_train = sequence.pad_sequences(X_train, maxlen=maxlen)\n",
        "x_test = sequence.pad_sequences(X_test, maxlen=maxlen)"
      ],
      "execution_count": 0,
      "outputs": []
    },
    {
      "cell_type": "code",
      "metadata": {
        "id": "AYmP3xk71fFl",
        "colab_type": "code",
        "colab": {
          "base_uri": "https://localhost:8080/",
          "height": 153
        },
        "outputId": "6ee6b47d-d92c-4ba6-b94e-a8fb14c0c992"
      },
      "source": [
        "x_train, y_train"
      ],
      "execution_count": 118,
      "outputs": [
        {
          "output_type": "execute_result",
          "data": {
            "text/plain": [
              "(array([[1662,  297, 5157, ...,  236,   17,   12],\n",
              "        [  65,  413,    7, ...,    8,   17,   12],\n",
              "        [ 659,  249,    7, ...,    8,   17,   12],\n",
              "        ...,\n",
              "        [ 794,    8,   16, ..., 1264,   17,   12],\n",
              "        [  98,    6,  153, ...,  215,   17,   12],\n",
              "        [   4, 2316,    5, ..., 3036,   17,   12]], dtype=int32),\n",
              " array([19, 41, 16, ..., 19,  3, 11]))"
            ]
          },
          "metadata": {
            "tags": []
          },
          "execution_count": 118
        }
      ]
    },
    {
      "cell_type": "code",
      "metadata": {
        "id": "UpavIsRbO9Oa",
        "colab_type": "code",
        "colab": {}
      },
      "source": [
        "# from keras.utils import to_categorical\n",
        "# y_train_binary = to_categorical(y_train)\n",
        "# y_test_binary = to_categorical(y_test)"
      ],
      "execution_count": 0,
      "outputs": []
    },
    {
      "cell_type": "code",
      "metadata": {
        "id": "aSHhhharu9WU",
        "colab_type": "code",
        "colab": {}
      },
      "source": [
        "# Build the model\n",
        "model = Sequential()\n",
        "# Need this to flatten it to the apt shape\n",
        "model.add(Embedding(max_features, 128))\n",
        "# 128 specified by papers/industry. Dropout and recurrent_dropout set our forget params\n",
        "model.add(LSTM(128, dropout=0.2, recurrent_dropout=0.2))\n",
        "model.add(Dense(len(y_train), activation='softmax'))\n",
        "\n",
        "\n",
        "model.compile(optimizer='nadam', loss='sparse_categorical_crossentropy',\n",
        "              metrics=['accuracy'])\n",
        "\n"
      ],
      "execution_count": 0,
      "outputs": []
    },
    {
      "cell_type": "code",
      "metadata": {
        "id": "Edu_wF7BxMWq",
        "colab_type": "code",
        "colab": {
          "base_uri": "https://localhost:8080/",
          "height": 153
        },
        "outputId": "362cdaee-3936-4cc8-a39d-4637ec651705"
      },
      "source": [
        "model.fit(x_train, y_train, batch_size=batch_size, epochs=2,\n",
        "          validation_data=(x_test, y_test))"
      ],
      "execution_count": 132,
      "outputs": [
        {
          "output_type": "stream",
          "text": [
            "/usr/local/lib/python3.6/dist-packages/tensorflow/python/framework/indexed_slices.py:434: UserWarning: Converting sparse IndexedSlices to a dense Tensor of unknown shape. This may consume a large amount of memory.\n",
            "  \"Converting sparse IndexedSlices to a dense Tensor of unknown shape. \"\n"
          ],
          "name": "stderr"
        },
        {
          "output_type": "stream",
          "text": [
            "Train on 8982 samples, validate on 2246 samples\n",
            "Epoch 1/2\n",
            "8982/8982 [==============================] - 176s 20ms/step - loss: 2.4123 - accuracy: 0.3845 - val_loss: 1.7201 - val_accuracy: 0.5583\n",
            "Epoch 2/2\n",
            "8982/8982 [==============================] - 179s 20ms/step - loss: 1.6407 - accuracy: 0.5926 - val_loss: 1.4823 - val_accuracy: 0.6469\n"
          ],
          "name": "stdout"
        },
        {
          "output_type": "execute_result",
          "data": {
            "text/plain": [
              "<keras.callbacks.callbacks.History at 0x7f3ffd21df98>"
            ]
          },
          "metadata": {
            "tags": []
          },
          "execution_count": 132
        }
      ]
    },
    {
      "cell_type": "code",
      "metadata": {
        "id": "Cz-60a-6SmO0",
        "colab_type": "code",
        "colab": {
          "base_uri": "https://localhost:8080/",
          "height": 282
        },
        "outputId": "55e74d96-5d04-4435-8a71-9c6db9b1ecd5"
      },
      "source": [
        "# Results report\n",
        "import matplotlib.pyplot as plt\n",
        "\n",
        "\n",
        "epoch_count = range(1,3)\n",
        "\n",
        "plt.plot(epoch_count , model.history.history['accuracy'], 'p-')\n",
        "plt.plot(epoch_count , model.history.history['val_accuracy'], 'cyan')\n",
        "plt.legend(['Training accuracy', 'Validation accuracy'])\n",
        "plt.show();\n",
        "print('Validation Accuracy:', model.history.history['val_accuracy'])"
      ],
      "execution_count": 135,
      "outputs": [
        {
          "output_type": "display_data",
          "data": {
            "image/png": "[encoded data removed]",
            "text/plain": [
              "<Figure size 432x288 with 1 Axes>"
            ]
          },
          "metadata": {
            "tags": [],
            "needs_background": "light"
          }
        },
        {
          "output_type": "stream",
          "text": [
            "Validation Accuracy: [0.5583258867263794, 0.6469278931617737]\n"
          ],
          "name": "stdout"
        }
      ]
    },
    {
      "cell_type": "markdown",
      "metadata": {
        "nteract": {
          "transient": {
            "deleting": false
          }
        },
        "id": "xdJH3Muot7ku",
        "colab_type": "text"
      },
      "source": [
        "## Sequence Data Question\n",
        "#### *Describe the `pad_sequences` method used on the training dataset. What does it do? Why do you need it?*\n",
        "\n",
        "**ANSWER**: The pad_sequences method ensures that all the lists are the same length. Needed to enter it into the model so that it can process each observation equivalently. The shapes wouldn't fit properly otherwise\n",
        "\n",
        "\n",
        "## RNNs versus LSTMs\n",
        "#### *What are the primary motivations behind using Long-ShortTerm Memory Cell unit over traditional Recurrent Neural Networks?*\n",
        "**ANSWER**: LSTMs are able to be customized to have remember and forget parameters, specifying dropout in between recursions and also between the LSTM and the Dense layer. This allows for weighting of recent information vs. long term. \n",
        "\n",
        "\n",
        "## RNN / LSTM Use Cases\n",
        "#### *Name and Describe 3 Use Cases of LSTMs or RNNs and why they are suited to that use case*\n",
        "**ANSWER**: Vanilla neural Networks aren't great at capturing features from sequence data, that's where RNN and LSTM shine. So these recursive neural networks work well with text data because the order of the characters and words are the main source of meaning. Time series data matters because the chronology is of interest. These models are also suited well for audio data because the melody is just sequence of frequencies. "
      ]
    },
    {
      "cell_type": "markdown",
      "metadata": {
        "colab_type": "text",
        "id": "yz0LCZd_O4IG"
      },
      "source": [
        "<a id=\"p2\"></a>\n",
        "## Part 2- CNNs\n",
        "\n",
        "### Find the Frog\n",
        "\n",
        "Time to play \"find the frog!\" Use Keras and ResNet50 (pre-trained) to detect which of the following images contain frogs:\n",
        "\n",
        "<img align=\"left\" src=\"https://d3i6fh83elv35t.cloudfront.net/newshour/app/uploads/2017/03/GettyImages-654745934-1024x687.jpg\" width=400>"
      ]
    },
    {
      "cell_type": "code",
      "metadata": {
        "colab_type": "code",
        "id": "whIqEWR236Af",
        "colab": {}
      },
      "source": [
        "from skimage.io import imread_collection\n",
        "from skimage.transform import resize #This might be a helpful function for you\n",
        "\n",
        "images = imread_collection('./frog_images/*.jpg')"
      ],
      "execution_count": 0,
      "outputs": []
    },
    {
      "cell_type": "code",
      "metadata": {
        "colab_type": "code",
        "id": "EKnnnM8k38sN",
        "outputId": "03327e5d-4ca7-445f-d31a-fdbe79aab956",
        "colab": {
          "base_uri": "https://localhost:8080/",
          "height": 119
        }
      },
      "source": [
        "print(type(images))\n",
        "print(type(images[0]), end=\"\\n\\n\")\n",
        "\n",
        "print(\"Each of the Images is a Different Size\")\n",
        "print(images[0].shape)\n",
        "print(images[1].shape)"
      ],
      "execution_count": 55,
      "outputs": [
        {
          "output_type": "stream",
          "text": [
            "<class 'skimage.io.collection.ImageCollection'>\n",
            "<class 'numpy.ndarray'>\n",
            "\n",
            "Each of the Images is a Different Size\n",
            "(2137, 1710, 3)\n",
            "(3810, 2856, 3)\n"
          ],
          "name": "stdout"
        }
      ]
    },
    {
      "cell_type": "code",
      "metadata": {
        "id": "qO1DT03l46at",
        "colab_type": "code",
        "colab": {
          "base_uri": "https://localhost:8080/",
          "height": 51
        },
        "outputId": "edbd9002-1fc8-43b8-88dd-c2dd0150eb20"
      },
      "source": [
        "# reshape the image\n",
        "image_reshape = []\n",
        "for image in images:\n",
        "  image_reshape = resize(image, output_shape=(224,224,3))\n",
        "\n",
        "print(image_reshape[0].shape)\n",
        "print(image_reshape[1].shape)"
      ],
      "execution_count": 75,
      "outputs": [
        {
          "output_type": "stream",
          "text": [
            "(224, 3)\n",
            "(224, 3)\n"
          ],
          "name": "stdout"
        }
      ]
    },
    {
      "cell_type": "markdown",
      "metadata": {
        "colab_type": "text",
        "id": "si5YfNqS50QU"
      },
      "source": [
        "Your goal is to validly run ResNet50 on the input images - don't worry about tuning or improving the model. Print out the predictions in any way you see fit. \n",
        "\n",
        "*Hint* - ResNet 50 doesn't just return \"frog\". The three labels it has for frogs are: `bullfrog, tree frog, tailed frog`\n",
        "\n",
        "*Stretch goal* - Check for other things such as fish."
      ]
    },
    {
      "cell_type": "code",
      "metadata": {
        "id": "0cO63SKkEz-p",
        "colab_type": "code",
        "colab": {}
      },
      "source": [
        "import numpy as np\n",
        "\n",
        "from tensorflow.keras.applications.resnet50 import ResNet50\n",
        "from tensorflow.keras.preprocessing import image\n",
        "from tensorflow.keras.applications.resnet50 import preprocess_input, decode_predictions\n",
        "\n",
        "def process_img_path(img_path):\n",
        "  return image.load_img(img_path, target_size=(224, 224))\n",
        "\n",
        "def img_contains_frog(img):\n",
        "  x = image.img_to_array(img)\n",
        "  x = np.expand_dims(x, axis=0)\n",
        "  x = preprocess_input(x)\n",
        "  model = ResNet50(weights='imagenet')\n",
        "  features = model.predict(x)\n",
        "  results = decode_predictions(features, top=3)[0]\n",
        "  print(results)\n",
        "  for entry in results:\n",
        "    if entry[1] == 'bullfrog':\n",
        "      return entry[2]\n",
        "    if entry[1] == 'tree frog':\n",
        "      return entry[2]\n",
        "    if entry[1] == 'tailed frog':\n",
        "      return entry[2]\n",
        "  return 0.0"
      ],
      "execution_count": 0,
      "outputs": []
    },
    {
      "cell_type": "code",
      "metadata": {
        "id": "s_QT8EWMJcee",
        "colab_type": "code",
        "colab": {
          "base_uri": "https://localhost:8080/",
          "height": 527
        },
        "outputId": "c81f784e-a76d-499d-82ad-772a3af4a80f"
      },
      "source": [
        "# Let's compare full image with resized\n",
        "# Full image\n",
        "for img in images:\n",
        "  img_contains_frog(img)\n"
      ],
      "execution_count": 93,
      "outputs": [
        {
          "output_type": "stream",
          "text": [
            "WARNING:tensorflow:Model was constructed with shape (None, 224, 224, 3) for input Tensor(\"input_5:0\", shape=(None, 224, 224, 3), dtype=float32), but it was called on an input with incompatible shape (None, 2137, 1710, 3).\n",
            "[('n01930112', 'nematode', 0.032350022), ('n01496331', 'electric_ray', 0.015001914), ('n03445777', 'golf_ball', 0.014543021)]\n",
            "WARNING:tensorflow:Model was constructed with shape (None, 224, 224, 3) for input Tensor(\"input_6:0\", shape=(None, 224, 224, 3), dtype=float32), but it was called on an input with incompatible shape (None, 3810, 2856, 3).\n",
            "[('n09472597', 'volcano', 0.12513255), ('n01930112', 'nematode', 0.08108736), ('n03773504', 'missile', 0.048901953)]\n",
            "WARNING:tensorflow:Model was constructed with shape (None, 224, 224, 3) for input Tensor(\"input_7:0\", shape=(None, 224, 224, 3), dtype=float32), but it was called on an input with incompatible shape (None, 3456, 4608, 3).\n",
            "[('n01930112', 'nematode', 0.15511686), ('n04525038', 'velvet', 0.07890502), ('n02219486', 'ant', 0.029604794)]\n",
            "WARNING:tensorflow:Model was constructed with shape (None, 224, 224, 3) for input Tensor(\"input_8:0\", shape=(None, 224, 224, 3), dtype=float32), but it was called on an input with incompatible shape (None, 2500, 3335, 3).\n",
            "[('n02219486', 'ant', 0.12076042), ('n02233338', 'cockroach', 0.040772017), ('n02259212', 'leafhopper', 0.038669467)]\n",
            "WARNING:tensorflow:Model was constructed with shape (None, 224, 224, 3) for input Tensor(\"input_9:0\", shape=(None, 224, 224, 3), dtype=float32), but it was called on an input with incompatible shape (None, 2000, 3008, 3).\n",
            "[('n03196217', 'digital_clock', 0.10913357), ('n01833805', 'hummingbird', 0.06624019), ('n01873310', 'platypus', 0.042204827)]\n",
            "WARNING:tensorflow:Model was constructed with shape (None, 224, 224, 3) for input Tensor(\"input_10:0\", shape=(None, 224, 224, 3), dtype=float32), but it was called on an input with incompatible shape (None, 2883, 4319, 3).\n",
            "[('n02165456', 'ladybug', 0.11579637), ('n02219486', 'ant', 0.07187931), ('n03804744', 'nail', 0.070807554)]\n",
            "WARNING:tensorflow:Model was constructed with shape (None, 224, 224, 3) for input Tensor(\"input_11:0\", shape=(None, 224, 224, 3), dtype=float32), but it was called on an input with incompatible shape (None, 4000, 6000, 3).\n",
            "[('n04409515', 'tennis_ball', 0.41539028), ('n04525038', 'velvet', 0.1514141), ('n03445777', 'golf_ball', 0.098719925)]\n",
            "WARNING:tensorflow:Model was constructed with shape (None, 224, 224, 3) for input Tensor(\"input_12:0\", shape=(None, 224, 224, 3), dtype=float32), but it was called on an input with incompatible shape (None, 2642, 3918, 3).\n",
            "[('n01944390', 'snail', 0.03210694), ('n01739381', 'vine_snake', 0.031411584), ('n02165456', 'ladybug', 0.030013904)]\n",
            "WARNING:tensorflow:Model was constructed with shape (None, 224, 224, 3) for input Tensor(\"input_13:0\", shape=(None, 224, 224, 3), dtype=float32), but it was called on an input with incompatible shape (None, 3456, 5184, 3).\n",
            "[('n01930112', 'nematode', 0.5404693), ('n04592741', 'wing', 0.08630957), ('n02165456', 'ladybug', 0.059288472)]\n",
            "WARNING:tensorflow:Model was constructed with shape (None, 224, 224, 3) for input Tensor(\"input_14:0\", shape=(None, 224, 224, 3), dtype=float32), but it was called on an input with incompatible shape (None, 2912, 4368, 3).\n",
            "[('n02165456', 'ladybug', 0.050584592), ('n01930112', 'nematode', 0.048977006), ('n02219486', 'ant', 0.036701765)]\n",
            "WARNING:tensorflow:Model was constructed with shape (None, 224, 224, 3) for input Tensor(\"input_15:0\", shape=(None, 224, 224, 3), dtype=float32), but it was called on an input with incompatible shape (None, 4928, 3285, 3).\n",
            "[('n01930112', 'nematode', 0.11537263), ('n04409515', 'tennis_ball', 0.07722937), ('n03445777', 'golf_ball', 0.027443977)]\n",
            "WARNING:tensorflow:Model was constructed with shape (None, 224, 224, 3) for input Tensor(\"input_16:0\", shape=(None, 224, 224, 3), dtype=float32), but it was called on an input with incompatible shape (None, 3702, 5397, 3).\n",
            "[('n01930112', 'nematode', 0.48411828), ('n04409515', 'tennis_ball', 0.028047556), ('n03196217', 'digital_clock', 0.024263522)]\n",
            "WARNING:tensorflow:Model was constructed with shape (None, 224, 224, 3) for input Tensor(\"input_17:0\", shape=(None, 224, 224, 3), dtype=float32), but it was called on an input with incompatible shape (None, 1856, 2784, 3).\n",
            "[('n01737021', 'water_snake', 0.11810874), ('n01644900', 'tailed_frog', 0.09170242), ('n01641577', 'bullfrog', 0.0640799)]\n",
            "WARNING:tensorflow:Model was constructed with shape (None, 224, 224, 3) for input Tensor(\"input_18:0\", shape=(None, 224, 224, 3), dtype=float32), but it was called on an input with incompatible shape (None, 2592, 3872, 3).\n",
            "[('n02268853', 'damselfly', 0.15339303), ('n01930112', 'nematode', 0.095723234), ('n02264363', 'lacewing', 0.0907457)]\n",
            "WARNING:tensorflow:Model was constructed with shape (None, 224, 224, 3) for input Tensor(\"input_19:0\", shape=(None, 224, 224, 3), dtype=float32), but it was called on an input with incompatible shape (None, 2673, 3382, 3).\n",
            "[('n03196217', 'digital_clock', 0.59746796), ('n01930112', 'nematode', 0.38583672), ('n04409515', 'tennis_ball', 0.0032123786)]\n"
          ],
          "name": "stdout"
        }
      ]
    },
    {
      "cell_type": "code",
      "metadata": {
        "id": "uVKN0i5VKDX3",
        "colab_type": "code",
        "colab": {
          "base_uri": "https://localhost:8080/",
          "height": 272
        },
        "outputId": "aee8db66-0f14-4ecf-fb9f-c117aa7c366b"
      },
      "source": [
        "# Resized\n",
        "for img in images:\n",
        "  img_contains_frog(resize(img, output_shape=(224,224,3)))\n",
        "\n",
        "# Resized is way worse"
      ],
      "execution_count": 94,
      "outputs": [
        {
          "output_type": "stream",
          "text": [
            "[('n06359193', 'web_site', 0.062323052), ('n03196217', 'digital_clock', 0.053685647), ('n01930112', 'nematode', 0.052812316)]\n",
            "[('n03729826', 'matchstick', 0.05975482), ('n06359193', 'web_site', 0.055888124), ('n03196217', 'digital_clock', 0.04703378)]\n",
            "[('n06359193', 'web_site', 0.05612775), ('n03729826', 'matchstick', 0.051401444), ('n03196217', 'digital_clock', 0.04932685)]\n",
            "[('n06359193', 'web_site', 0.0629571), ('n01930112', 'nematode', 0.052607417), ('n03196217', 'digital_clock', 0.04884168)]\n",
            "[('n06359193', 'web_site', 0.064803764), ('n01930112', 'nematode', 0.049625944), ('n03196217', 'digital_clock', 0.04514117)]\n",
            "[('n06359193', 'web_site', 0.062429693), ('n03196217', 'digital_clock', 0.04622219), ('n01930112', 'nematode', 0.04373119)]\n",
            "[('n06359193', 'web_site', 0.055801384), ('n03196217', 'digital_clock', 0.055428814), ('n03729826', 'matchstick', 0.052860036)]\n",
            "[('n03729826', 'matchstick', 0.051139507), ('n06359193', 'web_site', 0.048581924), ('n03196217', 'digital_clock', 0.04785697)]\n",
            "[('n06359193', 'web_site', 0.07434831), ('n01930112', 'nematode', 0.053617664), ('n03196217', 'digital_clock', 0.046670016)]\n",
            "[('n06359193', 'web_site', 0.06386194), ('n01930112', 'nematode', 0.048488133), ('n03196217', 'digital_clock', 0.04335035)]\n",
            "[('n06359193', 'web_site', 0.064859666), ('n01930112', 'nematode', 0.04875387), ('n03196217', 'digital_clock', 0.044015907)]\n",
            "[('n06359193', 'web_site', 0.05928078), ('n03729826', 'matchstick', 0.0507644), ('n01930112', 'nematode', 0.050515898)]\n",
            "[('n03729826', 'matchstick', 0.052103963), ('n04404412', 'television', 0.03866141), ('n03196217', 'digital_clock', 0.038168617)]\n",
            "[('n06359193', 'web_site', 0.062437583), ('n03196217', 'digital_clock', 0.054235563), ('n01930112', 'nematode', 0.04584513)]\n",
            "[('n06359193', 'web_site', 0.06611373), ('n01930112', 'nematode', 0.05281505), ('n03196217', 'digital_clock', 0.046687305)]\n"
          ],
          "name": "stdout"
        }
      ]
    },
    {
      "cell_type": "code",
      "metadata": {
        "id": "XUMRacg7LVYa",
        "colab_type": "code",
        "outputId": "87bca8aa-7154-48a1-ef85-e2450ed64001",
        "colab": {
          "base_uri": "https://localhost:8080/",
          "height": 527
        }
      },
      "source": [
        "# Stretch, gone fishin'\n",
        "# Should be an easy switch for fish.\n",
        "\n",
        "def img_contains_fish(img):\n",
        "  x = image.img_to_array(img)\n",
        "  x = np.expand_dims(x, axis=0)\n",
        "  x = preprocess_input(x)\n",
        "  model = ResNet50(weights='imagenet')\n",
        "  features = model.predict(x)\n",
        "  results = decode_predictions(features, top=3)[0]\n",
        "  print(results)\n",
        "  for entry in results:\n",
        "    if 'fish' in entry[1]:\n",
        "      return entry[2]\n",
        "  return 0.0\n",
        "\n",
        "for img in images:\n",
        "  img_contains_fish(img)"
      ],
      "execution_count": 0,
      "outputs": [
        {
          "output_type": "stream",
          "text": [
            "WARNING:tensorflow:Model was constructed with shape (None, 224, 224, 3) for input Tensor(\"input_35:0\", shape=(None, 224, 224, 3), dtype=float32), but it was called on an input with incompatible shape (None, 2137, 1710, 3).\n",
            "[('n01930112', 'nematode', 0.032350022), ('n01496331', 'electric_ray', 0.015001914), ('n03445777', 'golf_ball', 0.014543021)]\n",
            "WARNING:tensorflow:Model was constructed with shape (None, 224, 224, 3) for input Tensor(\"input_36:0\", shape=(None, 224, 224, 3), dtype=float32), but it was called on an input with incompatible shape (None, 3810, 2856, 3).\n",
            "[('n09472597', 'volcano', 0.12513255), ('n01930112', 'nematode', 0.08108736), ('n03773504', 'missile', 0.048901953)]\n",
            "WARNING:tensorflow:Model was constructed with shape (None, 224, 224, 3) for input Tensor(\"input_37:0\", shape=(None, 224, 224, 3), dtype=float32), but it was called on an input with incompatible shape (None, 3456, 4608, 3).\n",
            "[('n01930112', 'nematode', 0.15511686), ('n04525038', 'velvet', 0.07890502), ('n02219486', 'ant', 0.029604794)]\n",
            "WARNING:tensorflow:Model was constructed with shape (None, 224, 224, 3) for input Tensor(\"input_38:0\", shape=(None, 224, 224, 3), dtype=float32), but it was called on an input with incompatible shape (None, 2500, 3335, 3).\n",
            "[('n02219486', 'ant', 0.12076042), ('n02233338', 'cockroach', 0.040772017), ('n02259212', 'leafhopper', 0.038669467)]\n",
            "WARNING:tensorflow:Model was constructed with shape (None, 224, 224, 3) for input Tensor(\"input_39:0\", shape=(None, 224, 224, 3), dtype=float32), but it was called on an input with incompatible shape (None, 2000, 3008, 3).\n",
            "[('n03196217', 'digital_clock', 0.10913357), ('n01833805', 'hummingbird', 0.06624019), ('n01873310', 'platypus', 0.042204827)]\n",
            "WARNING:tensorflow:Model was constructed with shape (None, 224, 224, 3) for input Tensor(\"input_40:0\", shape=(None, 224, 224, 3), dtype=float32), but it was called on an input with incompatible shape (None, 2883, 4319, 3).\n",
            "[('n02165456', 'ladybug', 0.11579637), ('n02219486', 'ant', 0.07187931), ('n03804744', 'nail', 0.070807554)]\n",
            "WARNING:tensorflow:Model was constructed with shape (None, 224, 224, 3) for input Tensor(\"input_41:0\", shape=(None, 224, 224, 3), dtype=float32), but it was called on an input with incompatible shape (None, 4000, 6000, 3).\n",
            "[('n04409515', 'tennis_ball', 0.41539028), ('n04525038', 'velvet', 0.1514141), ('n03445777', 'golf_ball', 0.098719925)]\n",
            "WARNING:tensorflow:Model was constructed with shape (None, 224, 224, 3) for input Tensor(\"input_42:0\", shape=(None, 224, 224, 3), dtype=float32), but it was called on an input with incompatible shape (None, 2642, 3918, 3).\n",
            "[('n01944390', 'snail', 0.03210694), ('n01739381', 'vine_snake', 0.031411584), ('n02165456', 'ladybug', 0.030013904)]\n",
            "WARNING:tensorflow:Model was constructed with shape (None, 224, 224, 3) for input Tensor(\"input_43:0\", shape=(None, 224, 224, 3), dtype=float32), but it was called on an input with incompatible shape (None, 3456, 5184, 3).\n",
            "[('n01930112', 'nematode', 0.5404693), ('n04592741', 'wing', 0.08630957), ('n02165456', 'ladybug', 0.059288472)]\n",
            "WARNING:tensorflow:Model was constructed with shape (None, 224, 224, 3) for input Tensor(\"input_44:0\", shape=(None, 224, 224, 3), dtype=float32), but it was called on an input with incompatible shape (None, 2912, 4368, 3).\n",
            "[('n02165456', 'ladybug', 0.050584592), ('n01930112', 'nematode', 0.048977006), ('n02219486', 'ant', 0.036701765)]\n",
            "WARNING:tensorflow:Model was constructed with shape (None, 224, 224, 3) for input Tensor(\"input_45:0\", shape=(None, 224, 224, 3), dtype=float32), but it was called on an input with incompatible shape (None, 4928, 3285, 3).\n",
            "[('n01930112', 'nematode', 0.11537263), ('n04409515', 'tennis_ball', 0.07722937), ('n03445777', 'golf_ball', 0.027443977)]\n",
            "WARNING:tensorflow:Model was constructed with shape (None, 224, 224, 3) for input Tensor(\"input_46:0\", shape=(None, 224, 224, 3), dtype=float32), but it was called on an input with incompatible shape (None, 3702, 5397, 3).\n",
            "[('n01930112', 'nematode', 0.48411828), ('n04409515', 'tennis_ball', 0.028047556), ('n03196217', 'digital_clock', 0.024263522)]\n",
            "WARNING:tensorflow:Model was constructed with shape (None, 224, 224, 3) for input Tensor(\"input_47:0\", shape=(None, 224, 224, 3), dtype=float32), but it was called on an input with incompatible shape (None, 1856, 2784, 3).\n",
            "[('n01737021', 'water_snake', 0.11810874), ('n01644900', 'tailed_frog', 0.09170242), ('n01641577', 'bullfrog', 0.0640799)]\n",
            "WARNING:tensorflow:Model was constructed with shape (None, 224, 224, 3) for input Tensor(\"input_48:0\", shape=(None, 224, 224, 3), dtype=float32), but it was called on an input with incompatible shape (None, 2592, 3872, 3).\n",
            "[('n02268853', 'damselfly', 0.15339303), ('n01930112', 'nematode', 0.095723234), ('n02264363', 'lacewing', 0.0907457)]\n",
            "WARNING:tensorflow:Model was constructed with shape (None, 224, 224, 3) for input Tensor(\"input_49:0\", shape=(None, 224, 224, 3), dtype=float32), but it was called on an input with incompatible shape (None, 2673, 3382, 3).\n",
            "[('n03196217', 'digital_clock', 0.59746796), ('n01930112', 'nematode', 0.38583672), ('n04409515', 'tennis_ball', 0.0032123786)]\n"
          ],
          "name": "stdout"
        }
      ]
    },
    {
      "cell_type": "markdown",
      "metadata": {
        "colab_type": "text",
        "id": "XEuhvSu7O5Rf"
      },
      "source": [
        "<a id=\"p3\"></a>\n",
        "## Part 3 - Autoencoders\n",
        "\n",
        "Describe a use case for an autoencoder given that an autoencoder tries to predict its own input. \n",
        "\n",
        "__*Your Answer:*__  The autoencoder main usages are for dimensionality reduction and denoising. Compressing images is useful for reverse image searches as well. Recreating inputs from a compression is useful for feature extraction. Comparing the decoded output to the input shows how much the model knows about the input.\n"
      ]
    },
    {
      "cell_type": "markdown",
      "metadata": {
        "colab_type": "text",
        "id": "626zYgjkO7Vq"
      },
      "source": [
        "<a id=\"p4\"></a>\n",
        "## Part 4 - More..."
      ]
    },
    {
      "cell_type": "markdown",
      "metadata": {
        "colab_type": "text",
        "id": "__lDWfcUO8oo"
      },
      "source": [
        "Answer the following questions, with a target audience of a fellow Data Scientist:\n",
        "\n",
        "- What do you consider your strongest area, as a Data Scientist?\n",
        "  \n",
        "  Linear regression and decision trees, because they have high explainability, and can be run quickly\n",
        "- What area of Data Science would you most like to learn more about, and why?\n",
        "\n",
        "  Reproducibility, containerization, and packaging I think will be useful for the workplace\n",
        "- Where do you think Data Science will be in 5 years?\n",
        "\n",
        "  Continue the trend of misuse and abuse. Big data and being more commonplace among medium sized companies\n",
        "\n",
        "- What are the threats posed by AI to our society?\n",
        "  \n",
        "  When people can't distinguish between AI created content and people, the general worldview can be easily manipulated. Thus, democracy can be tainted. For example, during the net neutrality issues (ongoing) millions of comments in support of letting ISPs throttle and monetize sectors of the internet surfaced. NO ONE but people on the ISPs payroll would benefit, Ajit Pai. \n",
        "\n",
        "- How do you think we can counteract those threats? \n",
        "\n",
        "  Educate the general  public about the deceit, trace the source of the crimes against democracy, and punish severely.\n",
        "\n",
        "- Do you think achieving General Artifical Intelligence is ever possible?\n",
        "\n",
        "  I'm more swayed by the notion of Comprehensive AI Services (CAIS), where if human intelligence level is just one more capability away, that can be managed by another AI. Imagine an AI that can just lookup the latest and greatest at tensorflow hub, and another that manages its implementation. The line separating humanity and artificial creation will be blurred, especially with neural link.\n",
        "\n",
        "A few sentences per answer is fine - only elaborate if time allows."
      ]
    },
    {
      "cell_type": "markdown",
      "metadata": {
        "colab_type": "text",
        "id": "_Hoqe3mM_Mtc"
      },
      "source": [
        "## Congratulations! \n",
        "\n",
        "Thank you for your hard work, and congratulations! You've learned a lot, and you should proudly call yourself a Data Scientist.\n"
      ]
    },
    {
      "cell_type": "code",
      "metadata": {
        "id": "L5_xjd0lt7k5",
        "colab_type": "code",
        "colab": {
          "base_uri": "https://localhost:8080/",
          "height": 320
        },
        "outputId": "ab891989-54de-41aa-9a61-3a1861f5a012"
      },
      "source": [
        "from IPython.display import HTML\n",
        "\n",
        "HTML(\"\"\"<iframe src=\"https://giphy.com/embed/26xivLqkv86uJzqWk\" width=\"480\" height=\"270\" frameBorder=\"0\" class=\"giphy-embed\" allowFullScreen></iframe><p><a href=\"https://giphy.com/gifs/mumm-champagne-saber-26xivLqkv86uJzqWk\">via GIPHY</a></p>\"\"\")"
      ],
      "execution_count": 95,
      "outputs": [
        {
          "output_type": "execute_result",
          "data": {
            "text/html": [
              "<iframe src=\"https://giphy.com/embed/26xivLqkv86uJzqWk\" width=\"480\" height=\"270\" frameBorder=\"0\" class=\"giphy-embed\" allowFullScreen></iframe><p><a href=\"https://giphy.com/gifs/mumm-champagne-saber-26xivLqkv86uJzqWk\">via GIPHY</a></p>"
            ],
            "text/plain": [
              "<IPython.core.display.HTML object>"
            ]
          },
          "metadata": {
            "tags": []
          },
          "execution_count": 95
        }
      ]
    }
  ]
}
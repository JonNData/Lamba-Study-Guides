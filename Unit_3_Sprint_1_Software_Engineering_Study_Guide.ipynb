{
  "nbformat": 4,
  "nbformat_minor": 0,
  "metadata": {
    "colab": {
      "name": "Unit 3 Sprint 1 - Software Engineering - Study Guide.ipynb",
      "provenance": [],
      "collapsed_sections": [],
      "include_colab_link": true
    },
    "kernelspec": {
      "name": "python3",
      "display_name": "Python 3"
    }
  },
  "cells": [
    {
      "cell_type": "markdown",
      "metadata": {
        "id": "view-in-github",
        "colab_type": "text"
      },
      "source": [
        "<a href=\"https://colab.research.google.com/github/JonNData/Lamba-Study-Guides/blob/master/Unit_3_Sprint_1_Software_Engineering_Study_Guide.ipynb\" target=\"_parent\"><img src=\"https://colab.research.google.com/assets/colab-badge.svg\" alt=\"Open In Colab\"/></a>"
      ]
    },
    {
      "cell_type": "markdown",
      "metadata": {
        "id": "Nd2OOOVXxXS1",
        "colab_type": "text"
      },
      "source": [
        "This study guide should reinforce and provide practice for all of the concepts you have seen in the past week. There are a mix of written questions and coding exercises, both are equally important to prepare you for the sprint challenge as well as to be able to speak on these topics comfortably in interviews and on the job.\n",
        "\n",
        "If you get stuck or are unsure of something remember the 20 minute rule. If that doesn't help, then research a solution with google and stackoverflow. Only once you have exausted these methods should you turn to your Team Lead - they won't be there on your SC or during an interview. That being said, don't hesitate to ask for help if you truly are stuck.\n",
        "\n",
        "Have fun studying!"
      ]
    },
    {
      "cell_type": "markdown",
      "metadata": {
        "id": "YbwATE4qeJx7",
        "colab_type": "text"
      },
      "source": [
        "# Software Engineering"
      ]
    },
    {
      "cell_type": "markdown",
      "metadata": {
        "id": "fpvInKdXekFi",
        "colab_type": "text"
      },
      "source": [
        "## Questions"
      ]
    },
    {
      "cell_type": "markdown",
      "metadata": {
        "id": "Q6bS8AhBZ86H",
        "colab_type": "text"
      },
      "source": [
        "When completing this section, try to limit your answers to 2-3 sentences max and use plain english as much as possible. It's very easy to hide incomplete knowledge and understanding behind fancy or technical words, so imagine you are explaining these things to a non-technical interviewer.\n",
        "\n",
        "1. What is a Python class?\n",
        "```\n",
        "A class is a container for objects, helpful for thinking in OOP. They normally come with modules and attributes, with an __init__. You can think of libraries as classes. \n",
        "```\n",
        "\n",
        "2. What is __init__ what what does it do?\n",
        "```\n",
        "__init__ is a special Python method that is automatically called when memory is allocated for a new object. The sole purpose of __init__ is to initialize the values of instance members for the new object.\n",
        "```\n",
        "\n",
        "3. What the benefit of a notebook?\n",
        "```\n",
        "Easy learning curve, shareability, code mixed with python. Colab GUI great\n",
        "```\n",
        "\n",
        "4. What is the benefit of a package?\n",
        "```\n",
        "Put your answer here\n",
        "```\n",
        "\n",
        "5. What PEP8 and why is it important?\n",
        "```\n",
        "PEP8 is a standarized suggested format of code, good for readibility.\n",
        "```\n",
        "\n",
        "6. What is Docker what is it used for?\n",
        "```\n",
        " Docker is the leading container platform — Freedom of app choice, agile operations and integrated container security for legacy and cloud-native\n",
        "```\n",
        "\n"
      ]
    },
    {
      "cell_type": "markdown",
      "metadata": {
        "id": "dUQaIwbceohq",
        "colab_type": "text"
      },
      "source": [
        "## Practice Problems Choose a dataset of your own to fill this out."
      ]
    },
    {
      "cell_type": "markdown",
      "metadata": {
        "id": "kY0C2Ket3Em8",
        "colab_type": "text"
      },
      "source": [
        "#For all your code, you may only import/use the following:\n",
        "\n",
        "#Other modules you write\n",
        "#unittest (from the standard library)\n",
        "#random (from the standard library)"
      ]
    },
    {
      "cell_type": "markdown",
      "metadata": {
        "id": "gzQyr1iPfJBH",
        "colab_type": "text"
      },
      "source": [
        "Write a Python class to model data Make sure that your class has an __init__ constructor method "
      ]
    },
    {
      "cell_type": "code",
      "metadata": {
        "id": "e5hj6Jjwen3J",
        "colab_type": "code",
        "colab": {}
      },
      "source": [
        ""
      ],
      "execution_count": 0,
      "outputs": []
    },
    {
      "cell_type": "markdown",
      "metadata": {
        "id": "rq6bizULj6YF",
        "colab_type": "text"
      },
      "source": [
        "add two methods:"
      ]
    },
    {
      "cell_type": "code",
      "metadata": {
        "id": "1jSaglmDkEZ7",
        "colab_type": "code",
        "colab": {}
      },
      "source": [
        ""
      ],
      "execution_count": 0,
      "outputs": []
    },
    {
      "cell_type": "markdown",
      "metadata": {
        "id": "ijwt2MNXmONV",
        "colab_type": "text"
      },
      "source": [
        "## what to study"
      ]
    },
    {
      "cell_type": "markdown",
      "metadata": {
        "id": "pcvFMpPy9cul",
        "colab_type": "text"
      },
      "source": [
        "# 1) Python Modules, Packages, and Environments\n",
        "# 2) Python namespaces and imports\n",
        "# 3) Python package and install dependencies in a dedicated environment\n",
        "# 4) basic Python class, with a constructor, methods, and fields\n",
        "# 5) PEP 8\n",
        "# 6) Docker containers\n",
        "# 7) Dockerfile\n",
        "# 8) software testing, and be able to write basic unit tests\n",
        "# 9) Read and write quality comments, Pydoc, and READMEs\n",
        "# 10) Recognize major open-source licenses and their significance for personal and professional use\n",
        "\n"
      ]
    },
    {
      "cell_type": "code",
      "metadata": {
        "id": "xEfKdJQi_Eew",
        "colab_type": "code",
        "colab": {}
      },
      "source": [
        ""
      ],
      "execution_count": 0,
      "outputs": []
    }
  ]
}
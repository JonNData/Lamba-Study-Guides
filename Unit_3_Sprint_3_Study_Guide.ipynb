{
  "nbformat": 4,
  "nbformat_minor": 0,
  "metadata": {
    "colab": {
      "name": "Unit 3 Sprint 3 - Study Guide.ipynb",
      "provenance": [],
      "collapsed_sections": [],
      "include_colab_link": true
    },
    "kernelspec": {
      "name": "python3",
      "display_name": "Python 3"
    }
  },
  "cells": [
    {
      "cell_type": "markdown",
      "metadata": {
        "id": "view-in-github",
        "colab_type": "text"
      },
      "source": [
        "<a href=\"https://colab.research.google.com/github/JonNData/Lamba-Study-Guides/blob/master/Unit_3_Sprint_3_Study_Guide.ipynb\" target=\"_parent\"><img src=\"https://colab.research.google.com/assets/colab-badge.svg\" alt=\"Open In Colab\"/></a>"
      ]
    },
    {
      "cell_type": "markdown",
      "metadata": {
        "id": "Nd2OOOVXxXS1",
        "colab_type": "text"
      },
      "source": [
        "This study guide should reinforce and provide practice for all of the concepts you have seen in Unit 3 Sprint 3. There are a mix of written questions and coding exercises, both are equally important to prepare you for the sprint challenge as well as to be able to speak on these topics comfortably in interviews and on the job.\n",
        "\n",
        "If you get stuck or are unsure of something remember the 20 minute rule. If that doesn't help, then research a solution with google and stackoverflow. Only once you have exausted these methods should you turn to your Team Lead - they won't be there on your SC or during an interview. That being said, don't hesitate to ask for help if you truly are stuck.\n",
        "\n",
        "Have fun studying!"
      ]
    },
    {
      "cell_type": "markdown",
      "metadata": {
        "id": "fpvInKdXekFi",
        "colab_type": "text"
      },
      "source": [
        "## Questions"
      ]
    },
    {
      "cell_type": "markdown",
      "metadata": {
        "id": "Q6bS8AhBZ86H",
        "colab_type": "text"
      },
      "source": [
        "When completing this section, try to limit your answers to 2-3 sentences max and use plain english as much as possible. It's very easy to hide incomplete knowledge and undertanding behind fancy or technical words, so imagine you are explaining these things to a non-technical interviewer.\n",
        "\n",
        "1. What is Flask?\n",
        "```\n",
        "Easy modular app to deploy. Migrate is  a way to update the database, uses schema as blueprint as? SQLAlchemy?\n",
        "```\n",
        "\n",
        "2. What is OpenAQ API?\n",
        "```\n",
        "An API for an open air quality!? OpenAQ is a project to fight air inequality...\n",
        "Build and interact with a database for that cause. Sprint! Construct a URL that has the query that you want (has parameters), the response is json which you format. \n",
        "```\n",
        "\n",
        "3. What is SQLAlchemy\n",
        "```\n",
        "Object relational Mapper for SQL. Allows you to map classes to database, select rows and tables from joins and other selects. DRM data relationship manager? DB.session  or DB.add uses SLQAlchemy\n",
        "```\n",
        "\n",
        "4. What is the Standard coding conventions for the Python code?\n",
        "```\n",
        "PEP8, space after comma, 79 character lines, blank empty line at the end\n",
        "```\n",
        "5. What is Heroku?\n",
        "```\n",
        "Online web service that you deploy apps to. Free tier. Platform hosting. \n",
        "```"
      ]
    },
    {
      "cell_type": "markdown",
      "metadata": {
        "id": "sj5-1Nnkpej6",
        "colab_type": "text"
      },
      "source": [
        "### what to study"
      ]
    },
    {
      "cell_type": "markdown",
      "metadata": {
        "id": "vz6CusBmpDgz",
        "colab_type": "text"
      },
      "source": [
        "Flask App \n",
        "```\n",
        "```\n",
        "OpenAQ API\n",
        "```\n",
        "Figure our what format your query needs to be in. Response is a dictionary of dictionaries, json. It comes back raw (byte format, need to decode) and you'll need a json library to read it into a dictionary. (jsonify) (.decode utf8)\n",
        "gunicorn vs regular flask?\n",
        "```\n",
        "your code follows the Standard coding conventions for the Python code\n",
        "```\n",
        "```\n",
        "SQAlchemy\n",
        "```\n",
        "```\n",
        "Dashboard and record query\n",
        "```\n",
        "/// relative ////absolute\n",
        "```\n",
        "Heroku\n",
        "```\n"
      ]
    },
    {
      "cell_type": "markdown",
      "metadata": {
        "id": "dUQaIwbceohq",
        "colab_type": "text"
      },
      "source": [
        "## Practice Problems"
      ]
    },
    {
      "cell_type": "markdown",
      "metadata": {
        "id": "4jnYgnFjP6eE",
        "colab_type": "text"
      },
      "source": [
        "Installing The Package\n"
      ]
    },
    {
      "cell_type": "code",
      "metadata": {
        "id": "S9hFYrmqQlLA",
        "colab_type": "code",
        "colab": {}
      },
      "source": [
        ""
      ],
      "execution_count": 0,
      "outputs": []
    },
    {
      "cell_type": "markdown",
      "metadata": {
        "id": "bCbET5ioQlmQ",
        "colab_type": "text"
      },
      "source": [
        "Connecting to a database\n",
        "```\n",
        "```\n",
        "To start interacting with the database we first we need to establish a connection.Some examples of connecting to various databases can be found here https://docs.sqlalchemy.org/en/13/core/engines.html#postgresql"
      ]
    },
    {
      "cell_type": "code",
      "metadata": {
        "id": "lwNwPn5nQowi",
        "colab_type": "code",
        "colab": {}
      },
      "source": [
        ""
      ],
      "execution_count": 0,
      "outputs": []
    },
    {
      "cell_type": "markdown",
      "metadata": {
        "id": "2hq-PhcTQph7",
        "colab_type": "text"
      },
      "source": [
        "Viewing Table Details\n",
        "```\n",
        "```\n",
        "SQLAlchemy can be used to automatically load tables from a database using something called reflection. Reflection is the process of reading the database and building the metadata based on that information."
      ]
    },
    {
      "cell_type": "code",
      "metadata": {
        "id": "ZsWsuYwXRRP3",
        "colab_type": "code",
        "colab": {}
      },
      "source": [
        "#for example\n",
        "\n",
        "import sqlalchemy as db\n",
        "\n",
        "engine = db.create_engine('sqlite:///census.sqlite')\n",
        "connection = engine.connect()\n",
        "metadata = db.MetaData()\n",
        "census = db.Table('census', metadata, autoload=True, autoload_with=engine)\n",
        "\n",
        "# Print the column names\n",
        "print(census.columns.keys())\n",
        "['state', 'sex', 'age', 'pop2000', 'pop2008']\n",
        "\n",
        "# Print full table metadata\n",
        "print(repr(metadata.tables['census']))\n",
        "Table('census', MetaData(bind=None), Column('state', VARCHAR(length=30), table=<census>), Column('sex', VARCHAR(length=1), table=<census>),\n",
        "      Column('age', INTEGER(), table=<census>), Column('pop2000', INTEGER(), table=<census>), Column('pop2008', INTEGER(), table=<census>), schema=None)"
      ],
      "execution_count": 0,
      "outputs": []
    },
    {
      "cell_type": "code",
      "metadata": {
        "id": "ScovMuwvRdtq",
        "colab_type": "code",
        "colab": {}
      },
      "source": [
        ""
      ],
      "execution_count": 0,
      "outputs": []
    },
    {
      "cell_type": "markdown",
      "metadata": {
        "id": "qwHiBjZcR2Gy",
        "colab_type": "text"
      },
      "source": [
        "https://towardsdatascience.com/sqlalchemy-python-tutorial-79a577141a91"
      ]
    }
  ]
}
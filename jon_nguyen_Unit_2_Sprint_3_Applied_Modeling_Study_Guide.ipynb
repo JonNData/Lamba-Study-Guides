{
  "nbformat": 4,
  "nbformat_minor": 0,
  "metadata": {
    "colab": {
      "name": "jon_nguyen Unit 2 Sprint 3 - Applied Modeling - Study Guide.ipynb",
      "provenance": [],
      "collapsed_sections": [],
      "include_colab_link": true
    },
    "kernelspec": {
      "name": "python3",
      "display_name": "Python 3"
    }
  },
  "cells": [
    {
      "cell_type": "markdown",
      "metadata": {
        "id": "view-in-github",
        "colab_type": "text"
      },
      "source": [
        "<a href=\"https://colab.research.google.com/github/JonNData/Lamba-Study-Guides/blob/master/jon_nguyen_Unit_2_Sprint_3_Applied_Modeling_Study_Guide.ipynb\" target=\"_parent\"><img src=\"https://colab.research.google.com/assets/colab-badge.svg\" alt=\"Open In Colab\"/></a>"
      ]
    },
    {
      "cell_type": "markdown",
      "metadata": {
        "id": "Nd2OOOVXxXS1",
        "colab_type": "text"
      },
      "source": [
        "This study guide should reinforce and provide practice for all of the concepts you have seen in the past week. There are a mix of written questions and coding exercises, both are equally important to prepare you for the sprint challenge as well as to be able to speak on these topics comfortably in interviews and on the job.\n",
        "\n",
        "If you get stuck or are unsure of something remember the 20 minute rule. If that doesn't help, then research a solution with google and stackoverflow. Only once you have exausted these methods should you turn to your Team Lead - they won't be there on your SC or during an interview. That being said, don't hesitate to ask for help if you truly are stuck.\n",
        "\n",
        "Have fun studying!"
      ]
    },
    {
      "cell_type": "markdown",
      "metadata": {
        "id": "YbwATE4qeJx7",
        "colab_type": "text"
      },
      "source": [
        "# Applied Modeling"
      ]
    },
    {
      "cell_type": "markdown",
      "metadata": {
        "id": "fpvInKdXekFi",
        "colab_type": "text"
      },
      "source": [
        "## Questions"
      ]
    },
    {
      "cell_type": "markdown",
      "metadata": {
        "id": "Q6bS8AhBZ86H",
        "colab_type": "text"
      },
      "source": [
        "When completing this section, try to limit your answers to 2-3 sentences max and use plain english as much as possible. It's very easy to hide incomplete knowledge and understanding behind fancy or technical words, so imagine you are explaining these things to a non-technical interviewer.\n",
        "\n",
        "1. What is a Catagorical Feature\n",
        "```\n",
        "Features are variables, often columns of data. Qualitative, classification\n",
        "```\n",
        "\n",
        "2. What are Confusion Matrix?\n",
        "```\n",
        "A table that shows the tpr, fpr, tnr, fnr, can be used to calculate precision and recall. It indicates how well the predictions stacked up to the actual values\n",
        "```\n",
        "\n",
        "3. What is Permutation Importances?\n",
        "```\n",
        "Shuffle the contents of one feature, how do the predictions change? Measured by the loss function\n",
        "```\n",
        "\n",
        "4. What is feature isolation?\n",
        "```\n",
        "Linear models have coefficients, but tree ensembles do not.\n",
        "\n",
        "Instead, to see the relationship between individual feature(s) and the target, we can use partial dependence plots.\n",
        "\n",
        "Partial dependence plot - visualize nonlinear non monotonic relationships one feature at a time\n",
        "\n",
        "```\n",
        "\n",
        "5. What is features interaction?\n",
        "```\n",
        "Heatmap plot tells you on average with the interaction between two features what the interest rate was with these two features at each value\n",
        "\n",
        "```\n",
        "\n",
        "6. What is Shapley Values?\n",
        "```\n",
        "Shapley lets you explain individual predictions in trees.\n",
        "```\n",
        "\n",
        "7. How do you get ROC AUC score??\n",
        "```\n",
        "ROC AUC\n",
        "from sklearn.metrics import roc_auc_score\n",
        "X_test_processed = processor.transform(X_test)\n",
        "class_index = 1\n",
        "y_pred_proba = model.predict_proba(X_test_processed)[:, class_index]\n",
        "print(f'Test ROC AUC for class {class_index}:')\n",
        "print(roc_auc_score(y_test, y_pred_proba)) # Ranges from 0-1, higher is better\n",
        "\n",
        "```\n"
      ]
    },
    {
      "cell_type": "markdown",
      "metadata": {
        "id": "dUQaIwbceohq",
        "colab_type": "text"
      },
      "source": [
        "## Practice Problems Choose a dataset of your own to fill this out."
      ]
    },
    {
      "cell_type": "markdown",
      "metadata": {
        "id": "gzQyr1iPfJBH",
        "colab_type": "text"
      },
      "source": [
        "Preprocessing\n",
        "You may choose which features you want to use, and whether/how you will preprocess them."
      ]
    },
    {
      "cell_type": "code",
      "metadata": {
        "id": "e5hj6Jjwen3J",
        "colab_type": "code",
        "colab": {}
      },
      "source": [
        ""
      ],
      "execution_count": 0,
      "outputs": []
    },
    {
      "cell_type": "markdown",
      "metadata": {
        "id": "rq6bizULj6YF",
        "colab_type": "text"
      },
      "source": [
        "Fit a model with the train set. Use your model to predict probabilities for the test set."
      ]
    },
    {
      "cell_type": "code",
      "metadata": {
        "id": "1jSaglmDkEZ7",
        "colab_type": "code",
        "colab": {}
      },
      "source": [
        ""
      ],
      "execution_count": 0,
      "outputs": []
    },
    {
      "cell_type": "markdown",
      "metadata": {
        "id": "i2dHVZXjhlJS",
        "colab_type": "text"
      },
      "source": [
        "Get your model's validation accuracy. \n",
        "Get your model's test accuracy. \n",
        "Make visualizations for model interpretation."
      ]
    },
    {
      "cell_type": "code",
      "metadata": {
        "id": "bnt4a3p9ZYFz",
        "colab_type": "code",
        "colab": {}
      },
      "source": [
        ""
      ],
      "execution_count": 0,
      "outputs": []
    },
    {
      "cell_type": "markdown",
      "metadata": {
        "id": "ijwt2MNXmONV",
        "colab_type": "text"
      },
      "source": [
        "## what to study"
      ]
    },
    {
      "cell_type": "markdown",
      "metadata": {
        "id": "pcvFMpPy9cul",
        "colab_type": "text"
      },
      "source": [
        "# 1) Preprocessing\n",
        "# 2) Modeling\n",
        "# 3) Visualization\n",
        "# 4) Confusion Matrix\n",
        "# 5) permutation Importances\n",
        "# 6) Partial Dependence Plot\n",
        "# 7) feature isolation\n",
        "# 8) Shapley Values\n",
        "# 9) ROC AUC validation score\n",
        "# 10) categorical features\n",
        "# 11) encoding\n"
      ]
    },
    {
      "cell_type": "code",
      "metadata": {
        "id": "xEfKdJQi_Eew",
        "colab_type": "code",
        "colab": {}
      },
      "source": [
        ""
      ],
      "execution_count": 0,
      "outputs": []
    }
  ]
}